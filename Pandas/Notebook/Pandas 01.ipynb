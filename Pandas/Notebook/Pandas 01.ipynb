{
 "cells": [
  {
   "cell_type": "code",
   "execution_count": 1,
   "id": "69e7c7a9",
   "metadata": {},
   "outputs": [
    {
     "name": "stdout",
     "output_type": "stream",
     "text": [
      "     Name  ID\n",
      "0   Injam  23\n",
      "1  najmus  34\n",
      "2   Sanvi  02\n"
     ]
    }
   ],
   "source": [
    "import pandas as pd\n",
    "table = {\n",
    "    'Name' :['Injam','najmus','Sanvi'],\n",
    "    'ID'   :['23','34','02']\n",
    "}\n",
    "print(pd.DataFrame(table))"
   ]
  },
  {
   "cell_type": "code",
   "execution_count": 6,
   "id": "de8fadda",
   "metadata": {},
   "outputs": [
    {
     "name": "stdout",
     "output_type": "stream",
     "text": [
      "     Name  ID Dept.\n",
      "0   Injam  23   CSE\n",
      "1  najmus  34   CSE\n",
      "2   Sanvi  02   NFE\n",
      "\n",
      "\n",
      "     Name Dept.\n",
      "0   Injam   CSE\n",
      "1  najmus   CSE\n",
      "2   Sanvi   NFE\n"
     ]
    }
   ],
   "source": [
    "#Print only selceted column\n",
    "import pandas as pd\n",
    "table = {\n",
    "    'Name' :['Injam','najmus','Sanvi'],\n",
    "    'ID'   :['23','34','02'],\n",
    "    'Dept.':['CSE',\"CSE\",'NFE']\n",
    "}\n",
    "#print selcted coolumn\n",
    "df = pd.DataFrame(table)\n",
    "print(df)\n",
    "print('\\n')\n",
    "print(df[['Name','Dept.']])   #Only print seletced column \n",
    "#print(pd.DataFrame(table))"
   ]
  },
  {
   "cell_type": "code",
   "execution_count": null,
   "id": "e8ca22d7",
   "metadata": {},
   "outputs": [],
   "source": [
    " "
   ]
  },
  {
   "cell_type": "code",
   "execution_count": null,
   "id": "a0e4f273",
   "metadata": {},
   "outputs": [],
   "source": []
  }
 ],
 "metadata": {
  "kernelspec": {
   "display_name": "Python 3 (ipykernel)",
   "language": "python",
   "name": "python3"
  },
  "language_info": {
   "codemirror_mode": {
    "name": "ipython",
    "version": 3
   },
   "file_extension": ".py",
   "mimetype": "text/x-python",
   "name": "python",
   "nbconvert_exporter": "python",
   "pygments_lexer": "ipython3",
   "version": "3.9.7"
  }
 },
 "nbformat": 4,
 "nbformat_minor": 5
}
