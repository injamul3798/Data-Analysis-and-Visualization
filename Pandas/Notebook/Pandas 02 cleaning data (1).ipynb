{
 "cells": [
  {
   "cell_type": "code",
   "execution_count": 11,
   "id": "02f77aa6",
   "metadata": {},
   "outputs": [
    {
     "name": "stdout",
     "output_type": "stream",
     "text": [
      "         day  temperature  windspeed   event\n",
      "0   1/1/2017         32.0        6.0    Rain\n",
      "5   1/8/2017         31.0        2.0   Sunny\n",
      "7  1/10/2017         34.0        8.0  Cloudy\n",
      "8  1/11/2017         40.0       12.0   Sunny\n"
     ]
    }
   ],
   "source": [
    "'''Data cleaning means fixing bad data in your data set.\n",
    "Bad data could be:\n",
    "\n",
    "Empty cells\n",
    "Data in wrong format\n",
    "Wrong data\n",
    "Duplicates'''\n",
    "#One way to deal with empty cells is to remove rows that contain empty cells.\n",
    "\n",
    "#it will just removed those row whave empty valure=e\n",
    "import pandas as pd\n",
    "df = pd.read_csv(\"C:\\\\Users\\HP\\\\Documents\\\\Pandas\\\\weather_data1.csv\")\n",
    "new_df = df.dropna()   #dorpna() method is used for deleting empty rows\n",
    "print(new_df.to_string())  "
   ]
  },
  {
   "cell_type": "code",
   "execution_count": 6,
   "id": "941e8482",
   "metadata": {},
   "outputs": [
    {
     "name": "stdout",
     "output_type": "stream",
     "text": [
      "         day  temperature  windspeed   event\n",
      "0   1/1/2017         32.0        6.0    Rain\n",
      "1   1/4/2017          NaN        7.0   Sunny\n",
      "2   1/5/2017         28.0        NaN    Snow\n",
      "3   1/6/2017          NaN        7.0     130\n",
      "4   1/7/2017         32.0        NaN    Rain\n",
      "5   1/8/2017         31.0        2.0   Sunny\n",
      "6   1/9/2017          NaN        NaN     130\n",
      "7  1/10/2017         34.0        8.0  Cloudy\n",
      "8  1/11/2017         40.0       12.0   Sunny\n"
     ]
    }
   ],
   "source": [
    "#Another way to cleaning data is (replace empty with a new element)\n",
    "import pandas as pd\n",
    "df = pd.read_csv(\"C:\\\\Users\\HP\\\\Documents\\\\Pandas\\\\weather_data1.csv\")\n",
    "#df.fillna(130,inplace=True) #The fillna() set a new value  to the all empty cell\n",
    "df['event'].fillna(130,inplace = True)\n",
    "print(df)\n",
    "\n",
    "#also we can store a new value  for only one column\n"
   ]
  },
  {
   "cell_type": "code",
   "execution_count": 7,
   "id": "5e4b3cf3",
   "metadata": {},
   "outputs": [
    {
     "name": "stdout",
     "output_type": "stream",
     "text": [
      "         day  temperature  windspeed   event\n",
      "0   1/1/2017    32.000000        6.0    Rain\n",
      "1   1/4/2017    32.833333        7.0   Sunny\n",
      "2   1/5/2017    28.000000        NaN    Snow\n",
      "3   1/6/2017    32.833333        7.0     NaN\n",
      "4   1/7/2017    32.000000        NaN    Rain\n",
      "5   1/8/2017    31.000000        2.0   Sunny\n",
      "6   1/9/2017    32.833333        NaN     NaN\n",
      "7  1/10/2017    34.000000        8.0  Cloudy\n",
      "8  1/11/2017    40.000000       12.0   Sunny\n"
     ]
    }
   ],
   "source": [
    "# Replace Using Mean, Median, or Mode\n",
    "import pandas as pd\n",
    "df = pd.read_csv(\"C:\\\\Users\\HP\\\\Documents\\\\Pandas\\\\weather_data1.csv\")\n",
    "x = df['temperature'].mean() //also we can use mean,mode,median\n",
    "df['temperature'].fillna(x,inplace = True)\n",
    "print(df)\n"
   ]
  },
  {
   "cell_type": "code",
   "execution_count": 10,
   "id": "8a2b6366",
   "metadata": {},
   "outputs": [
    {
     "name": "stdout",
     "output_type": "stream",
     "text": [
      "         day  temperature  windspeed   event\n",
      "0   1/1/2017         32.0        6.0    Rain\n",
      "1   1/4/2017          NaN        7.0   Sunny\n",
      "2   1/5/2017         28.0        NaN    Snow\n",
      "3   1/6/2017          NaN        6.0     NaN\n",
      "4   1/7/2017         32.0        NaN    Rain\n",
      "5   1/8/2017         31.0        2.0   Sunny\n",
      "6   1/9/2017          NaN        NaN     NaN\n",
      "7  1/10/2017         34.0        8.0  Cloudy\n",
      "8  1/11/2017         40.0        6.0   Sunny\n"
     ]
    }
   ],
   "source": [
    "#Lets talks about Pandas - Fixing Wrong Data\n",
    "'''For small data sets you might be able to replace the wrong data one by one, but not for big data sets.\n",
    "To replace wrong data for larger data sets you can create some rules, e.g. set some boundaries for legal values, \n",
    "and replace any values that are outside of the boundaries.'''\n",
    "import pandas as pd\n",
    "df = pd.read_csv(\"C:\\\\Users\\HP\\\\Documents\\\\Pandas\\\\weather_data1.csv\")\n",
    "#df.loc[3,\"windspeed\"] = 8 it is for only one data\n",
    "#if we want to work on manay data then we can use loop\n",
    "for i in df.index:\n",
    "    if df.loc[i,\"windspeed\"] >10:\n",
    "        df.loc[i,\"windspeed\"] = 6\n",
    "        \n",
    "print(df)"
   ]
  },
  {
   "cell_type": "code",
   "execution_count": null,
   "id": "c2a3d00d",
   "metadata": {},
   "outputs": [],
   "source": [
    "df.drop_duplicates(inplace = True)"
   ]
  }
 ],
 "metadata": {
  "kernelspec": {
   "display_name": "Python 3 (ipykernel)",
   "language": "python",
   "name": "python3"
  },
  "language_info": {
   "codemirror_mode": {
    "name": "ipython",
    "version": 3
   },
   "file_extension": ".py",
   "mimetype": "text/x-python",
   "name": "python",
   "nbconvert_exporter": "python",
   "pygments_lexer": "ipython3",
   "version": "3.9.7"
  }
 },
 "nbformat": 4,
 "nbformat_minor": 5
}
