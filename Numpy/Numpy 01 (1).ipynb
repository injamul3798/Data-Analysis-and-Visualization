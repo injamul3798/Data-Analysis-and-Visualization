{
 "cells": [
  {
   "cell_type": "code",
   "execution_count": 3,
   "id": "49c17943",
   "metadata": {},
   "outputs": [
    {
     "name": "stdout",
     "output_type": "stream",
     "text": [
      "[2 3 4 5 2]\n",
      "<class 'numpy.ndarray'>\n",
      "[ 2  4 23  2  1]\n"
     ]
    }
   ],
   "source": [
    "'''NumPy is a Python library used for working with arrays.\n",
    "It also has functions for working in domain of linear algebra, fourier transform,\n",
    "and matrices.'''\n",
    "import numpy as np \n",
    "arr = np.array([2,3,4,5,2])\n",
    "print(arr)\n",
    "print(type(arr))\n",
    "#let create a tuple\n",
    "brr = np.array((2,4,23,2,1))\n",
    "print(brr)"
   ]
  },
  {
   "cell_type": "code",
   "execution_count": 9,
   "id": "5f19b73d",
   "metadata": {},
   "outputs": [
    {
     "name": "stdout",
     "output_type": "stream",
     "text": [
      "[[3 4 5]\n",
      " [6 7 4]]\n",
      "2\n",
      "4\n"
     ]
    }
   ],
   "source": [
    "import numpy as pd\n",
    "arr = np.array([[3,4,5],[6,7,4]])\n",
    "print(arr)\n",
    "print(arr.ndim)  # dimention of array \n",
    "#Indexing\n",
    "print(arr[1,2])\n",
    "\n"
   ]
  },
  {
   "cell_type": "code",
   "execution_count": 11,
   "id": "29f93909",
   "metadata": {},
   "outputs": [
    {
     "name": "stdout",
     "output_type": "stream",
     "text": [
      "[6 7]\n"
     ]
    }
   ],
   "source": [
    "#Now lets talk about array slicing \n",
    "import numpy as pd\n",
    "arr = np.array([[3,4,5],[6,7,4]])\n",
    "print(arr[1,0:2])"
   ]
  },
  {
   "cell_type": "code",
   "execution_count": 13,
   "id": "1459baaf",
   "metadata": {},
   "outputs": [
    {
     "name": "stdout",
     "output_type": "stream",
     "text": [
      "[40  3  4  5  6]\n",
      "[2 3 4 5 6]\n"
     ]
    }
   ],
   "source": [
    "#NumPy Array Copy vs View\n",
    "'''After copying any array to another array if we change orginasl\n",
    "one then it will not reflect on copying array and for view it is \n",
    "different'''\n",
    "import numpy as pd\n",
    "arr = np.array([2,3,4,5,6])\n",
    "new_arr = arr.copy()\n",
    "arr[0] = 40\n",
    "print(arr)\n",
    "print(new_arr)\n",
    "\n",
    "                                                                                                                                            "
   ]
  },
  {
   "cell_type": "code",
   "execution_count": 16,
   "id": "a29bd54d",
   "metadata": {},
   "outputs": [
    {
     "name": "stdout",
     "output_type": "stream",
     "text": [
      "[40  3  4  5  6]\n",
      "[40  3  4  5  6]\n",
      "(5,)\n"
     ]
    }
   ],
   "source": [
    "import numpy as pd\n",
    "arr = np.array([2,3,4,5,6])\n",
    "new_arr = arr.view()\n",
    "arr[0] = 40\n",
    "print(arr)   \n",
    "print(new_arr) # and for the change of orginal array it wil\n",
    "#reflect copying array\n",
    "print(arr.shape)"
   ]
  },
  {
   "cell_type": "code",
   "execution_count": 22,
   "id": "96b57641",
   "metadata": {},
   "outputs": [
    {
     "name": "stdout",
     "output_type": "stream",
     "text": [
      "(12,)\n",
      "[[ 1  2  3  4]\n",
      " [ 5  6  7  8]\n",
      " [ 9 10 11 12]]\n",
      "1\n",
      "2\n",
      "3\n",
      "4\n",
      "5\n",
      "6\n",
      "7\n",
      "8\n",
      "9\n",
      "10\n",
      "11\n",
      "12\n"
     ]
    }
   ],
   "source": [
    "import numpy as np \n",
    "arr = np.array([1,2,3,4,5,6,7,8,9,10,11,12])\n",
    "\n",
    "print(arr.shape)\n",
    "print(arr.reshape(3,4))  #crete 3 by 4 array\n",
    "for i in arr:\n",
    "    print(i)\n"
   ]
  },
  {
   "cell_type": "code",
   "execution_count": 25,
   "id": "e7658268",
   "metadata": {},
   "outputs": [
    {
     "name": "stdout",
     "output_type": "stream",
     "text": [
      "[ 1  2  3  4  5  6  7  8  9 10]\n"
     ]
    }
   ],
   "source": [
    "#join two array\n",
    "import numpy as pd\n",
    "arr = np.array([1,2,3,4,5])\n",
    "brr = np.array([6,7,8,9,10])\n",
    "new_array = np.concatenate((arr,brr))  # add two arrays\n",
    "print(new_array)"
   ]
  },
  {
   "cell_type": "code",
   "execution_count": 26,
   "id": "fcb3ec57",
   "metadata": {
    "scrolled": true
   },
   "outputs": [
    {
     "name": "stdout",
     "output_type": "stream",
     "text": [
      "[array([2, 3, 4, 5]), array([ 6, 78,  9,  3])]\n"
     ]
    }
   ],
   "source": [
    "#array spilit\n",
    "import numpy as pd\n",
    "arr  = np.array([2,3,4,5,6,78,9,3])\n",
    "print(np.array_split(arr,2))  # divided main array into two \n",
    "#parts"
   ]
  },
  {
   "cell_type": "code",
   "execution_count": 29,
   "id": "5ced9322",
   "metadata": {},
   "outputs": [
    {
     "name": "stdout",
     "output_type": "stream",
     "text": [
      "(array([0, 6, 7, 8], dtype=int64),)\n",
      "(array([0, 2, 4, 6, 7, 8], dtype=int64),)\n"
     ]
    }
   ],
   "source": [
    "#search array\n",
    "import pandas as pd\n",
    "arr = np.array([2,3,4,5,6,7,2,2,2])\n",
    "search_index  = np.where(arr == 2)\n",
    "print(search_index)\n",
    "\n",
    "print(np.where(arr%2==0))"
   ]
  },
  {
   "cell_type": "code",
   "execution_count": 30,
   "id": "f9e19ac8",
   "metadata": {},
   "outputs": [
    {
     "name": "stdout",
     "output_type": "stream",
     "text": [
      "[2 2 3 3 6 7]\n"
     ]
    }
   ],
   "source": [
    "#numpy array sort\n",
    "import numpy as pd\n",
    "arr = ([3,2,6,7,3,2])\n",
    "print(np.sort(arr))"
   ]
  },
  {
   "cell_type": "code",
   "execution_count": null,
   "id": "3ae6a7e2",
   "metadata": {},
   "outputs": [],
   "source": []
  }
 ],
 "metadata": {
  "kernelspec": {
   "display_name": "Python 3 (ipykernel)",
   "language": "python",
   "name": "python3"
  },
  "language_info": {
   "codemirror_mode": {
    "name": "ipython",
    "version": 3
   },
   "file_extension": ".py",
   "mimetype": "text/x-python",
   "name": "python",
   "nbconvert_exporter": "python",
   "pygments_lexer": "ipython3",
   "version": "3.9.7"
  }
 },
 "nbformat": 4,
 "nbformat_minor": 5
}
